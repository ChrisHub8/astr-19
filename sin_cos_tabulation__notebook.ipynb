{
 "cells": [
  {
   "cell_type": "markdown",
   "id": "943d9a6c",
   "metadata": {},
   "source": [
    "# Sin and Cos Function Definitions\n",
    "\n",
    "This notebook defines two functions: `my_sin(x)` and `my_cos(x)` to compute sine and cosine using numpy. It then tabulates values between 0 and 2pi, and prints the first 10 rows in a clean, column-aligned format using `tabulate`."
   ]
  },
  {
   "cell_type": "code",
   "execution_count": 1,
   "id": "690b89fd",
   "metadata": {},
   "outputs": [],
   "source": [
    "import numpy as np\n",
    "\n",
    "def my_sin(x):\n",
    "    \"\"\"\n",
    "    Returns the sine of x using numpy's sin function.\n",
    "    \"\"\"\n",
    "    return np.sin(x)"
   ]
  },
  {
   "cell_type": "markdown",
   "id": "e7697204",
   "metadata": {},
   "source": [
    "## Cosine Function\n",
    "\n",
    "This function, `my_cos(x)`, returns the cosine of the input `x` using NumPy's cosine function."
   ]
  },
  {
   "cell_type": "code",
   "execution_count": 2,
   "id": "9cf04476",
   "metadata": {},
   "outputs": [],
   "source": [
    "def my_cos(x):\n",
    "    \"\"\"\n",
    "    Returns the cosine of x using numpy's cos function.\n",
    "    \"\"\"\n",
    "    return np.cos(x)"
   ]
  },
  {
   "cell_type": "markdown",
   "id": "6f74bda1",
   "metadata": {},
   "source": [
    "## Tabulating Values\n",
    "\n",
    "Here, we create 1000 equally spaced x-values between 0 and 2pi, then compute sin(x) and cos(x) for each using our defined functions."
   ]
  },
  {
   "cell_type": "code",
   "execution_count": 3,
   "id": "f7e66bc7",
   "metadata": {},
   "outputs": [],
   "source": [
    "x_values = np.linspace(0, 2 * np.pi, 1000)\n",
    "sin_values = my_sin(x_values)\n",
    "cos_values = my_cos(x_values)"
   ]
  },
  {
   "cell_type": "markdown",
   "id": "834bb145",
   "metadata": {},
   "source": [
    "## Display First 10 Rows\n",
    "\n",
    "We use a for loop to prepare the first 10 rows of x, sin(x), and cos(x), and use `tabulate` to print them in a clean table format."
   ]
  },
  {
   "cell_type": "code",
   "execution_count": 4,
   "id": "4a310eb1",
   "metadata": {},
   "outputs": [
    {
     "name": "stdout",
     "output_type": "stream",
     "text": [
      "         x      sin(x)      cos(x)\n",
      "----------  ----------  ----------\n",
      "0.00000000  0.00000000  1.00000000\n",
      "0.00628947  0.00628943  0.99998022\n",
      "0.01257895  0.01257862  0.99992089\n",
      "0.01886842  0.01886730  0.99982200\n",
      "0.02515790  0.02515525  0.99968356\n",
      "0.03144737  0.03144219  0.99950557\n",
      "0.03773685  0.03772789  0.99928805\n",
      "0.04402632  0.04401210  0.99903100\n",
      "0.05031580  0.05029457  0.99873443\n",
      "0.05660527  0.05657505  0.99839835\n"
     ]
    }
   ],
   "source": [
    "from tabulate import tabulate\n",
    "\n",
    "# Prepare the first 10 rows\n",
    "table_data = []\n",
    "for i in range(10):\n",
    "    table_data.append([x_values[i], sin_values[i], cos_values[i]])\n",
    "\n",
    "# Define headers\n",
    "headers = [\"x\", \"sin(x)\", \"cos(x)\"]\n",
    "\n",
    "# Print the table using tabulate\n",
    "print(tabulate(table_data, headers=headers, floatfmt=\".8f\"))"
   ]
  },
  {
   "cell_type": "code",
   "execution_count": null,
   "id": "f763d607-7ac0-4a91-9f3a-d9a7619087a7",
   "metadata": {},
   "outputs": [],
   "source": []
  }
 ],
 "metadata": {
  "kernelspec": {
   "display_name": "Python 3.13",
   "language": "python",
   "name": "py313"
  },
  "language_info": {
   "codemirror_mode": {
    "name": "ipython",
    "version": 3
   },
   "file_extension": ".py",
   "mimetype": "text/x-python",
   "name": "python",
   "nbconvert_exporter": "python",
   "pygments_lexer": "ipython3",
   "version": "3.13.2"
  }
 },
 "nbformat": 4,
 "nbformat_minor": 5
}
